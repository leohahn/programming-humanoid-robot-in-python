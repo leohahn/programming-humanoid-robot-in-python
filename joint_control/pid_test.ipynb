{
 "cells": [
  {
   "cell_type": "code",
   "execution_count": 5,
   "metadata": {
    "collapsed": false,
    "scrolled": true
   },
   "outputs": [
    {
     "name": "stderr",
     "output_type": "stream",
     "text": [
      "Exception in thread Thread-3:\n",
      "Traceback (most recent call last):\n",
      "  File \"/usr/lib/python2.7/threading.py\", line 810, in __bootstrap_inner\n",
      "    self.run()\n",
      "  File \"/usr/lib/python2.7/threading.py\", line 763, in run\n",
      "    self.__target(*self.__args, **self.__kwargs)\n",
      "  File \"/home/lhahn/dev/python/programming-humanoid-robot-in-python/joint_control/../introduction/spark_agent.py\", line 256, in run\n",
      "    self.sense_think_act()\n",
      "  File \"<ipython-input-4-49ed15db79f0>\", line 7, in sense_think_act\n",
      "    orig_sense_think_act()\n",
      "  File \"/home/lhahn/dev/python/programming-humanoid-robot-in-python/joint_control/../introduction/spark_agent.py\", line 250, in sense_think_act\n",
      "    perception = self.sense()\n",
      "  File \"/home/lhahn/dev/python/programming-humanoid-robot-in-python/joint_control/../introduction/spark_agent.py\", line 235, in sense\n",
      "    length += self.socket.recv(4 - len(length))\n",
      "error: [Errno 104] Connection reset by peer\n",
      "\n"
     ]
    }
   ],
   "source": [
    "%matplotlib inline\n",
    "from pylab import *\n",
    "from IPython.html.widgets import interact\n",
    "from IPython import display\n",
    "from collections import deque"
   ]
  },
  {
   "cell_type": "code",
   "execution_count": 6,
   "metadata": {
    "collapsed": false
   },
   "outputs": [],
   "source": [
    "from pid import PIDAgent\n",
    "agent = PIDAgent()"
   ]
  },
  {
   "cell_type": "code",
   "execution_count": 7,
   "metadata": {
    "collapsed": false
   },
   "outputs": [
    {
     "data": {
      "image/png": "[encoded data removed]",
      "text/plain": [
       "<matplotlib.figure.Figure at 0x7f9e248d7310>"
      ]
     },
     "metadata": {},
     "output_type": "display_data"
    }
   ],
   "source": [
    "@interact(kp=(0, 100, 1), ki=(-1, 1, 0.1), kd=(-1, 1, 0.1), delay=(0, 5))\n",
    "def set_pid_parameters(kp, ki, kd, delay=0):\n",
    "    global agent\n",
    "    agent.joint_controller.Kp = kp\n",
    "    agent.joint_controller.Ki = ki\n",
    "    agent.joint_controller.Kd = kd\n",
    "    agent.joint_controller.set_delay(delay)\n",
    "\n",
    "joint_name = 'HeadYaw'\n",
    "sensor = deque(maxlen=100)\n",
    "target = deque(maxlen=100)\n",
    "\n",
    "@interact(name=agent.joint_names)\n",
    "def set_joint_name(name):\n",
    "    global joint_name\n",
    "    if joint_name != name:\n",
    "        joint_name = name\n",
    "        sensor.clear()\n",
    "        target.clear()\n",
    "\n",
    "@interact(value=(-1, 1, 0.1))\n",
    "def set_joint_target(value):\n",
    "    agent.target_joints[joint_name] = value"
   ]
  },
  {
   "cell_type": "code",
   "execution_count": 8,
   "metadata": {
    "collapsed": false,
    "scrolled": true
   },
   "outputs": [
    {
     "data": {
      "image/png": "[encoded data removed]",
      "text/plain": [
       "<matplotlib.figure.Figure at 0x7f9e240e6790>"
      ]
     },
     "metadata": {},
     "output_type": "display_data"
    }
   ],
   "source": [
    "# inject plotting input agent's loop\n",
    "cycle = 0\n",
    "orig_sense_think_act = agent.sense_think_act\n",
    "def sense_think_act():\n",
    "    global cycle\n",
    "    cycle += 1\n",
    "    orig_sense_think_act()\n",
    "    sensor.append(agent.perception.joint[joint_name])\n",
    "    target.append(agent.target_joints[joint_name])\n",
    "    if cycle % 10 == 0:  # plot every 10 cycles\n",
    "        cla()\n",
    "        plot(target, '-r')\n",
    "        plot(sensor, '-b')\n",
    "        display.clear_output(wait=True)\n",
    "        display.display(gcf())\n",
    "agent.sense_think_act = sense_think_act\n",
    "agent.start()"
   ]
  },
  {
   "cell_type": "code",
   "execution_count": null,
   "metadata": {
    "collapsed": true
   },
   "outputs": [],
   "source": []
  },
  {
   "cell_type": "code",
   "execution_count": null,
   "metadata": {
    "collapsed": true
   },
   "outputs": [],
   "source": []
  },
  {
   "cell_type": "code",
   "execution_count": null,
   "metadata": {
    "collapsed": true
   },
   "outputs": [],
   "source": []
  },
  {
   "cell_type": "code",
   "execution_count": null,
   "metadata": {
    "collapsed": true
   },
   "outputs": [],
   "source": []
  },
  {
   "cell_type": "code",
   "execution_count": null,
   "metadata": {
    "collapsed": true
   },
   "outputs": [],
   "source": []
  },
  {
   "cell_type": "code",
   "execution_count": null,
   "metadata": {
    "collapsed": true
   },
   "outputs": [],
   "source": []
  }
 ],
 "metadata": {
  "kernelspec": {
   "display_name": "Python 2",
   "language": "python",
   "name": "python2"
  },
  "language_info": {
   "codemirror_mode": {
    "name": "ipython",
    "version": 2
   },
   "file_extension": ".py",
   "mimetype": "text/x-python",
   "name": "python",
   "nbconvert_exporter": "python",
   "pygments_lexer": "ipython2",
   "version": "2.7.9"
  }
 },
 "nbformat": 4,
 "nbformat_minor": 0
}
